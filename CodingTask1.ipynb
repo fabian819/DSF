{
  "nbformat": 4,
  "nbformat_minor": 0,
  "metadata": {
    "colab": {
      "name": "CodingTask1.ipynb",
      "provenance": [],
      "include_colab_link": true
    },
    "kernelspec": {
      "name": "python3",
      "display_name": "Python 3"
    },
    "language_info": {
      "name": "python"
    }
  },
  "cells": [
    {
      "cell_type": "markdown",
      "metadata": {
        "id": "view-in-github",
        "colab_type": "text"
      },
      "source": [
        "<a href=\"https://colab.research.google.com/github/fabian819/DSF/blob/main/CodingTask1.ipynb\" target=\"_parent\"><img src=\"https://colab.research.google.com/assets/colab-badge.svg\" alt=\"Open In Colab\"/></a>"
      ]
    },
    {
      "cell_type": "markdown",
      "source": [
        "Data Science Fundamentals for DCBP, S. Haug, University of Bern "
      ],
      "metadata": {
        "id": "_-1mhuoK6uqC"
      }
    },
    {
      "cell_type": "markdown",
      "source": [
        "# Coding Task 1\n",
        "\n",
        "- Deadline (upload to Ilias): 2022-03-22 17:00\n",
        "- Estimated effort: 2-5 hours (if you don't progress after 2 hours of trying, search for help, ChatGPT, Google, colleagues, course tutor)\n",
        "- Data on Ilias: CCD-Data with metadata file CCD-Metadata\n"
      ],
      "metadata": {
        "id": "gn4RkUC66-ou"
      }
    },
    {
      "cell_type": "markdown",
      "source": [
        "## Tasks (maximum 12.5 points)"
      ],
      "metadata": {
        "id": "KYKF2iS56v1z"
      }
    },
    {
      "cell_type": "markdown",
      "source": [
        "- **CT-1.1** Write a method (function) which removes the header information in the \n",
        "datafile and saves that information into a separate textfile. [0.5 points] \n",
        "- **CT-1.2** Write a function which reduces the data resolution by merging/averaging columns such that there is only one column per 1 nm. [2.0 points]  \n",
        "- **CT-1.3** Now generalize the above merging so that it works for any number nm er column. [2.0 points]\n",
        "- **CT-1.4** Implement the saving of the reduced dataset to a file. Do this (1) by writing an explicit loop (write line by line) and (2) by using pandas methods. Measure the running times of the two approaches. [2.0 points]\n",
        "- **CT-1.5** Write a function which takes two wavelengths as input and plots the difference of the data at these lengths over time. [2.0 points] \n",
        "- **CT-1.6** Let the x-axis be in seconds, label the axes with names and units, label the plot with color and legend, make a title for the plot. Save the plot to a file. [2.0 points]\n",
        "- **CT-1.7** Plot the full and some reduced datasets in the same figure. Is there any visual difference? [2.0 points]"
      ],
      "metadata": {
        "id": "rXqhhPMu9aPx"
      }
    },
    {
      "cell_type": "markdown",
      "source": [
        "All the relevant imports"
      ],
      "metadata": {
        "id": "Ssr25TwqzdbM"
      }
    },
    {
      "cell_type": "code",
      "source": [
        "import pandas as pd\n",
        "from google.colab import drive\n",
        "import re\n",
        "import os\n",
        "import numpy as np"
      ],
      "metadata": {
        "id": "OfvMackX-SFc"
      },
      "execution_count": 101,
      "outputs": []
    },
    {
      "cell_type": "markdown",
      "source": [
        "Mount google drive"
      ],
      "metadata": {
        "id": "RVdIlPiGz_uC"
      }
    },
    {
      "cell_type": "code",
      "source": [
        "drive.mount('/content/drive', force_remount=True)"
      ],
      "metadata": {
        "colab": {
          "base_uri": "https://localhost:8080/"
        },
        "id": "t58uc9II0D0q",
        "outputId": "31730fec-5b40-45a2-b227-1397d970ed0d"
      },
      "execution_count": 102,
      "outputs": [
        {
          "output_type": "stream",
          "name": "stdout",
          "text": [
            "Mounted at /content/drive\n"
          ]
        }
      ]
    },
    {
      "cell_type": "markdown",
      "source": [
        "**CT-1.1**"
      ],
      "metadata": {
        "id": "0vW_uU_9zz8n"
      }
    },
    {
      "cell_type": "code",
      "source": [
        "\n",
        "def isolate_header(file_path,file_name):\n",
        "  '''Takes a file and splits it on the line\n",
        "  which starts with >, only works if > is not\n",
        "  used in other parts of the file'''\n",
        "\n",
        "  path = file_path + '/' + file_name\n",
        "\n",
        "  if  not os.path.exists(path):\n",
        "    raise Exception('There is no such file')\n",
        "\n",
        "  with open(path, 'r') as instream:\n",
        "    separated = re.split('>.*\\n', instream.read())\n",
        "\n",
        "  with open(path, 'w') as outstream:\n",
        "    outstream.write(separated[-1])\n",
        "\n",
        "  try:\n",
        "    with open(file_path + '/CCD-metadata.txt', 'w') as outstream:\n",
        "      outstream.write(separated[-2])\n",
        "  except:\n",
        "    print(\"Probably already split\")\n",
        "\n",
        "  "
      ],
      "metadata": {
        "id": "6BIwq6nczabo"
      },
      "execution_count": 103,
      "outputs": []
    },
    {
      "cell_type": "code",
      "source": [
        "isolate_header('/content/drive/MyDrive/DSF','CCD-Data.txt')"
      ],
      "metadata": {
        "id": "2E_XJ6Q51eor",
        "outputId": "418fead3-9e47-4eac-b7b7-0ed9b5668626",
        "colab": {
          "base_uri": "https://localhost:8080/"
        }
      },
      "execution_count": 104,
      "outputs": [
        {
          "output_type": "stream",
          "name": "stdout",
          "text": [
            "Probably already split\n"
          ]
        }
      ]
    },
    {
      "cell_type": "markdown",
      "source": [
        "**CT-1.2**"
      ],
      "metadata": {
        "id": "p3WuvZrO4zTW"
      }
    },
    {
      "cell_type": "markdown",
      "source": [
        "Save the data in a datframe"
      ],
      "metadata": {
        "id": "EauwgUBcUnxs"
      }
    },
    {
      "cell_type": "code",
      "source": [
        "df = pd.read_csv('/content/drive/MyDrive/DSF/CCD-Data.txt', sep='\\t')\n",
        "df.head()\n"
      ],
      "metadata": {
        "colab": {
          "base_uri": "https://localhost:8080/",
          "height": 386
        },
        "id": "NifjNAPq5O-J",
        "outputId": "3c5084fb-7be7-4f15-d170-e49dcbedd8f1"
      },
      "execution_count": 105,
      "outputs": [
        {
          "output_type": "execute_result",
          "data": {
            "text/plain": [
              "                   Unnamed: 0     Unnamed: 1  316.6137  316.7492  316.8847  \\\n",
              "0  2018-10-25 10:32:04.789000  1540456324789  0.329672  0.329672  0.329672   \n",
              "1  2018-10-25 10:32:04.878000  1540456324878 -0.044412 -0.044412 -0.044412   \n",
              "2  2018-10-25 10:32:04.962000  1540456324962  0.338219  0.338219  0.338219   \n",
              "3  2018-10-25 10:32:05.046000  1540456325046 -0.049682 -0.049682 -0.049682   \n",
              "4  2018-10-25 10:32:05.129000  1540456325129  0.335086  0.335086  0.335086   \n",
              "\n",
              "   317.0203  317.1558  317.2913  317.4268  317.5623  ...  778.9703   779.089  \\\n",
              "0  0.090294 -0.716926 -1.829304 -0.686330 -0.428776  ... -0.038483 -0.039623   \n",
              "1  0.157632 -0.672423 -2.183981 -0.492421 -0.000000  ... -0.039428 -0.038486   \n",
              "2  0.330993 -0.879836 -0.000000 -0.559845 -0.000000  ... -0.037725 -0.037534   \n",
              "3  0.519086 -0.681150 -0.000000 -0.417230 -0.000000  ... -0.037613 -0.037168   \n",
              "4 -0.041393 -0.000000 -1.802774 -0.510417 -0.000000  ... -0.040919 -0.038288   \n",
              "\n",
              "   779.2076  779.3263  779.4449  779.5636  779.6822  779.8008  779.9194  \\\n",
              "0 -0.036920 -0.037309 -0.037299 -0.037476 -0.036856 -0.036853 -0.039100   \n",
              "1 -0.037309 -0.036357 -0.037289 -0.038728 -0.037214 -0.036902 -0.040210   \n",
              "2 -0.036560 -0.036152 -0.036554 -0.036875 -0.037351 -0.036746 -0.038686   \n",
              "3 -0.036369 -0.034549 -0.036252 -0.037948 -0.036713 -0.035706 -0.038203   \n",
              "4 -0.035840 -0.035638 -0.039504 -0.040093 -0.039953 -0.037656 -0.038082   \n",
              "\n",
              "   780.0381  \n",
              "0 -0.035545  \n",
              "1 -0.038165  \n",
              "2 -0.036903  \n",
              "3 -0.036822  \n",
              "4 -0.035900  \n",
              "\n",
              "[5 rows x 3650 columns]"
            ],
            "text/html": [
              "\n",
              "  <div id=\"df-021a8a3e-a932-4505-abf9-3afa76a2f495\">\n",
              "    <div class=\"colab-df-container\">\n",
              "      <div>\n",
              "<style scoped>\n",
              "    .dataframe tbody tr th:only-of-type {\n",
              "        vertical-align: middle;\n",
              "    }\n",
              "\n",
              "    .dataframe tbody tr th {\n",
              "        vertical-align: top;\n",
              "    }\n",
              "\n",
              "    .dataframe thead th {\n",
              "        text-align: right;\n",
              "    }\n",
              "</style>\n",
              "<table border=\"1\" class=\"dataframe\">\n",
              "  <thead>\n",
              "    <tr style=\"text-align: right;\">\n",
              "      <th></th>\n",
              "      <th>Unnamed: 0</th>\n",
              "      <th>Unnamed: 1</th>\n",
              "      <th>316.6137</th>\n",
              "      <th>316.7492</th>\n",
              "      <th>316.8847</th>\n",
              "      <th>317.0203</th>\n",
              "      <th>317.1558</th>\n",
              "      <th>317.2913</th>\n",
              "      <th>317.4268</th>\n",
              "      <th>317.5623</th>\n",
              "      <th>...</th>\n",
              "      <th>778.9703</th>\n",
              "      <th>779.089</th>\n",
              "      <th>779.2076</th>\n",
              "      <th>779.3263</th>\n",
              "      <th>779.4449</th>\n",
              "      <th>779.5636</th>\n",
              "      <th>779.6822</th>\n",
              "      <th>779.8008</th>\n",
              "      <th>779.9194</th>\n",
              "      <th>780.0381</th>\n",
              "    </tr>\n",
              "  </thead>\n",
              "  <tbody>\n",
              "    <tr>\n",
              "      <th>0</th>\n",
              "      <td>2018-10-25 10:32:04.789000</td>\n",
              "      <td>1540456324789</td>\n",
              "      <td>0.329672</td>\n",
              "      <td>0.329672</td>\n",
              "      <td>0.329672</td>\n",
              "      <td>0.090294</td>\n",
              "      <td>-0.716926</td>\n",
              "      <td>-1.829304</td>\n",
              "      <td>-0.686330</td>\n",
              "      <td>-0.428776</td>\n",
              "      <td>...</td>\n",
              "      <td>-0.038483</td>\n",
              "      <td>-0.039623</td>\n",
              "      <td>-0.036920</td>\n",
              "      <td>-0.037309</td>\n",
              "      <td>-0.037299</td>\n",
              "      <td>-0.037476</td>\n",
              "      <td>-0.036856</td>\n",
              "      <td>-0.036853</td>\n",
              "      <td>-0.039100</td>\n",
              "      <td>-0.035545</td>\n",
              "    </tr>\n",
              "    <tr>\n",
              "      <th>1</th>\n",
              "      <td>2018-10-25 10:32:04.878000</td>\n",
              "      <td>1540456324878</td>\n",
              "      <td>-0.044412</td>\n",
              "      <td>-0.044412</td>\n",
              "      <td>-0.044412</td>\n",
              "      <td>0.157632</td>\n",
              "      <td>-0.672423</td>\n",
              "      <td>-2.183981</td>\n",
              "      <td>-0.492421</td>\n",
              "      <td>-0.000000</td>\n",
              "      <td>...</td>\n",
              "      <td>-0.039428</td>\n",
              "      <td>-0.038486</td>\n",
              "      <td>-0.037309</td>\n",
              "      <td>-0.036357</td>\n",
              "      <td>-0.037289</td>\n",
              "      <td>-0.038728</td>\n",
              "      <td>-0.037214</td>\n",
              "      <td>-0.036902</td>\n",
              "      <td>-0.040210</td>\n",
              "      <td>-0.038165</td>\n",
              "    </tr>\n",
              "    <tr>\n",
              "      <th>2</th>\n",
              "      <td>2018-10-25 10:32:04.962000</td>\n",
              "      <td>1540456324962</td>\n",
              "      <td>0.338219</td>\n",
              "      <td>0.338219</td>\n",
              "      <td>0.338219</td>\n",
              "      <td>0.330993</td>\n",
              "      <td>-0.879836</td>\n",
              "      <td>-0.000000</td>\n",
              "      <td>-0.559845</td>\n",
              "      <td>-0.000000</td>\n",
              "      <td>...</td>\n",
              "      <td>-0.037725</td>\n",
              "      <td>-0.037534</td>\n",
              "      <td>-0.036560</td>\n",
              "      <td>-0.036152</td>\n",
              "      <td>-0.036554</td>\n",
              "      <td>-0.036875</td>\n",
              "      <td>-0.037351</td>\n",
              "      <td>-0.036746</td>\n",
              "      <td>-0.038686</td>\n",
              "      <td>-0.036903</td>\n",
              "    </tr>\n",
              "    <tr>\n",
              "      <th>3</th>\n",
              "      <td>2018-10-25 10:32:05.046000</td>\n",
              "      <td>1540456325046</td>\n",
              "      <td>-0.049682</td>\n",
              "      <td>-0.049682</td>\n",
              "      <td>-0.049682</td>\n",
              "      <td>0.519086</td>\n",
              "      <td>-0.681150</td>\n",
              "      <td>-0.000000</td>\n",
              "      <td>-0.417230</td>\n",
              "      <td>-0.000000</td>\n",
              "      <td>...</td>\n",
              "      <td>-0.037613</td>\n",
              "      <td>-0.037168</td>\n",
              "      <td>-0.036369</td>\n",
              "      <td>-0.034549</td>\n",
              "      <td>-0.036252</td>\n",
              "      <td>-0.037948</td>\n",
              "      <td>-0.036713</td>\n",
              "      <td>-0.035706</td>\n",
              "      <td>-0.038203</td>\n",
              "      <td>-0.036822</td>\n",
              "    </tr>\n",
              "    <tr>\n",
              "      <th>4</th>\n",
              "      <td>2018-10-25 10:32:05.129000</td>\n",
              "      <td>1540456325129</td>\n",
              "      <td>0.335086</td>\n",
              "      <td>0.335086</td>\n",
              "      <td>0.335086</td>\n",
              "      <td>-0.041393</td>\n",
              "      <td>-0.000000</td>\n",
              "      <td>-1.802774</td>\n",
              "      <td>-0.510417</td>\n",
              "      <td>-0.000000</td>\n",
              "      <td>...</td>\n",
              "      <td>-0.040919</td>\n",
              "      <td>-0.038288</td>\n",
              "      <td>-0.035840</td>\n",
              "      <td>-0.035638</td>\n",
              "      <td>-0.039504</td>\n",
              "      <td>-0.040093</td>\n",
              "      <td>-0.039953</td>\n",
              "      <td>-0.037656</td>\n",
              "      <td>-0.038082</td>\n",
              "      <td>-0.035900</td>\n",
              "    </tr>\n",
              "  </tbody>\n",
              "</table>\n",
              "<p>5 rows × 3650 columns</p>\n",
              "</div>\n",
              "      <button class=\"colab-df-convert\" onclick=\"convertToInteractive('df-021a8a3e-a932-4505-abf9-3afa76a2f495')\"\n",
              "              title=\"Convert this dataframe to an interactive table.\"\n",
              "              style=\"display:none;\">\n",
              "        \n",
              "  <svg xmlns=\"http://www.w3.org/2000/svg\" height=\"24px\"viewBox=\"0 0 24 24\"\n",
              "       width=\"24px\">\n",
              "    <path d=\"M0 0h24v24H0V0z\" fill=\"none\"/>\n",
              "    <path d=\"M18.56 5.44l.94 2.06.94-2.06 2.06-.94-2.06-.94-.94-2.06-.94 2.06-2.06.94zm-11 1L8.5 8.5l.94-2.06 2.06-.94-2.06-.94L8.5 2.5l-.94 2.06-2.06.94zm10 10l.94 2.06.94-2.06 2.06-.94-2.06-.94-.94-2.06-.94 2.06-2.06.94z\"/><path d=\"M17.41 7.96l-1.37-1.37c-.4-.4-.92-.59-1.43-.59-.52 0-1.04.2-1.43.59L10.3 9.45l-7.72 7.72c-.78.78-.78 2.05 0 2.83L4 21.41c.39.39.9.59 1.41.59.51 0 1.02-.2 1.41-.59l7.78-7.78 2.81-2.81c.8-.78.8-2.07 0-2.86zM5.41 20L4 18.59l7.72-7.72 1.47 1.35L5.41 20z\"/>\n",
              "  </svg>\n",
              "      </button>\n",
              "      \n",
              "  <style>\n",
              "    .colab-df-container {\n",
              "      display:flex;\n",
              "      flex-wrap:wrap;\n",
              "      gap: 12px;\n",
              "    }\n",
              "\n",
              "    .colab-df-convert {\n",
              "      background-color: #E8F0FE;\n",
              "      border: none;\n",
              "      border-radius: 50%;\n",
              "      cursor: pointer;\n",
              "      display: none;\n",
              "      fill: #1967D2;\n",
              "      height: 32px;\n",
              "      padding: 0 0 0 0;\n",
              "      width: 32px;\n",
              "    }\n",
              "\n",
              "    .colab-df-convert:hover {\n",
              "      background-color: #E2EBFA;\n",
              "      box-shadow: 0px 1px 2px rgba(60, 64, 67, 0.3), 0px 1px 3px 1px rgba(60, 64, 67, 0.15);\n",
              "      fill: #174EA6;\n",
              "    }\n",
              "\n",
              "    [theme=dark] .colab-df-convert {\n",
              "      background-color: #3B4455;\n",
              "      fill: #D2E3FC;\n",
              "    }\n",
              "\n",
              "    [theme=dark] .colab-df-convert:hover {\n",
              "      background-color: #434B5C;\n",
              "      box-shadow: 0px 1px 3px 1px rgba(0, 0, 0, 0.15);\n",
              "      filter: drop-shadow(0px 1px 2px rgba(0, 0, 0, 0.3));\n",
              "      fill: #FFFFFF;\n",
              "    }\n",
              "  </style>\n",
              "\n",
              "      <script>\n",
              "        const buttonEl =\n",
              "          document.querySelector('#df-021a8a3e-a932-4505-abf9-3afa76a2f495 button.colab-df-convert');\n",
              "        buttonEl.style.display =\n",
              "          google.colab.kernel.accessAllowed ? 'block' : 'none';\n",
              "\n",
              "        async function convertToInteractive(key) {\n",
              "          const element = document.querySelector('#df-021a8a3e-a932-4505-abf9-3afa76a2f495');\n",
              "          const dataTable =\n",
              "            await google.colab.kernel.invokeFunction('convertToInteractive',\n",
              "                                                     [key], {});\n",
              "          if (!dataTable) return;\n",
              "\n",
              "          const docLinkHtml = 'Like what you see? Visit the ' +\n",
              "            '<a target=\"_blank\" href=https://colab.research.google.com/notebooks/data_table.ipynb>data table notebook</a>'\n",
              "            + ' to learn more about interactive tables.';\n",
              "          element.innerHTML = '';\n",
              "          dataTable['output_type'] = 'display_data';\n",
              "          await google.colab.output.renderOutput(dataTable, element);\n",
              "          const docLink = document.createElement('div');\n",
              "          docLink.innerHTML = docLinkHtml;\n",
              "          element.appendChild(docLink);\n",
              "        }\n",
              "      </script>\n",
              "    </div>\n",
              "  </div>\n",
              "  "
            ]
          },
          "metadata": {},
          "execution_count": 105
        }
      ]
    },
    {
      "cell_type": "code",
      "source": [
        "def merging_columns_1nm(dataframe):\n",
        "  renamed = dataframe.rename(columns=lambda s: s.split('.')[0])   #renaming columns so that only integer wavelengths\n",
        "  merged =  renamed.iloc[:,2:].groupby(level=0, axis=1,).mean()   #grouping the columns by wavelength and taking the mean\n",
        "  merged.insert(0, 'Unnamed: 1', dataframe['Unnamed: 1'])\n",
        "  return merged"
      ],
      "metadata": {
        "id": "1lRKY-wM424o"
      },
      "execution_count": 106,
      "outputs": []
    },
    {
      "cell_type": "code",
      "source": [
        "test = merging_columns_1nm(df)\n",
        "test.head()"
      ],
      "metadata": {
        "id": "dHBcZbBMTyfX",
        "outputId": "47fa0f3b-f40e-48ce-ffa3-68bd25c7b979",
        "colab": {
          "base_uri": "https://localhost:8080/",
          "height": 300
        }
      },
      "execution_count": 107,
      "outputs": [
        {
          "output_type": "execute_result",
          "data": {
            "text/plain": [
              "      Unnamed: 1       316       317       318       319       320       321  \\\n",
              "0  1540456324789  0.329672 -0.166957 -0.064746  0.133130  0.123705 -0.249831   \n",
              "1  1540456324878 -0.044412 -0.411839 -0.133472  2.032979 -0.387814 -0.031617   \n",
              "2  1540456324962  0.338219 -0.094507 -0.024912  0.061890 -0.226986  0.107871   \n",
              "3  1540456325046 -0.049682  0.027980 -0.008338 -0.088350  0.070348 -0.013674   \n",
              "4  1540456325129  0.335086 -0.162378 -0.102281  0.045717 -0.088278  0.042099   \n",
              "\n",
              "        322       323       324  ...       771       772       773       774  \\\n",
              "0  0.271327 -0.093151 -0.123458  ... -0.038555 -0.038021 -0.039290 -0.038654   \n",
              "1  0.322955  1.744725 -0.051639  ... -0.038100 -0.038118 -0.038622 -0.038308   \n",
              "2  0.121011 -0.208504 -0.418836  ... -0.038063 -0.038303 -0.039200 -0.038397   \n",
              "3  0.307321  0.159532 -0.047932  ... -0.037775 -0.037678 -0.038711 -0.038133   \n",
              "4  0.304675 -0.261077 -0.009424  ... -0.038433 -0.038135 -0.038991 -0.038178   \n",
              "\n",
              "        775       776       777       778       779       780  \n",
              "0 -0.036496 -0.038835 -0.038145 -0.038333 -0.037679 -0.035545  \n",
              "1 -0.036896 -0.039010 -0.038400 -0.037930 -0.037812 -0.038165  \n",
              "2 -0.036932 -0.038245 -0.037664 -0.037514 -0.037057 -0.036903  \n",
              "3 -0.036972 -0.038177 -0.037273 -0.036996 -0.036614 -0.036822  \n",
              "4 -0.037010 -0.038540 -0.038076 -0.037606 -0.038132 -0.035900  \n",
              "\n",
              "[5 rows x 466 columns]"
            ],
            "text/html": [
              "\n",
              "  <div id=\"df-e4c0cd9b-6678-499b-b203-42ca744e26c5\">\n",
              "    <div class=\"colab-df-container\">\n",
              "      <div>\n",
              "<style scoped>\n",
              "    .dataframe tbody tr th:only-of-type {\n",
              "        vertical-align: middle;\n",
              "    }\n",
              "\n",
              "    .dataframe tbody tr th {\n",
              "        vertical-align: top;\n",
              "    }\n",
              "\n",
              "    .dataframe thead th {\n",
              "        text-align: right;\n",
              "    }\n",
              "</style>\n",
              "<table border=\"1\" class=\"dataframe\">\n",
              "  <thead>\n",
              "    <tr style=\"text-align: right;\">\n",
              "      <th></th>\n",
              "      <th>Unnamed: 1</th>\n",
              "      <th>316</th>\n",
              "      <th>317</th>\n",
              "      <th>318</th>\n",
              "      <th>319</th>\n",
              "      <th>320</th>\n",
              "      <th>321</th>\n",
              "      <th>322</th>\n",
              "      <th>323</th>\n",
              "      <th>324</th>\n",
              "      <th>...</th>\n",
              "      <th>771</th>\n",
              "      <th>772</th>\n",
              "      <th>773</th>\n",
              "      <th>774</th>\n",
              "      <th>775</th>\n",
              "      <th>776</th>\n",
              "      <th>777</th>\n",
              "      <th>778</th>\n",
              "      <th>779</th>\n",
              "      <th>780</th>\n",
              "    </tr>\n",
              "  </thead>\n",
              "  <tbody>\n",
              "    <tr>\n",
              "      <th>0</th>\n",
              "      <td>1540456324789</td>\n",
              "      <td>0.329672</td>\n",
              "      <td>-0.166957</td>\n",
              "      <td>-0.064746</td>\n",
              "      <td>0.133130</td>\n",
              "      <td>0.123705</td>\n",
              "      <td>-0.249831</td>\n",
              "      <td>0.271327</td>\n",
              "      <td>-0.093151</td>\n",
              "      <td>-0.123458</td>\n",
              "      <td>...</td>\n",
              "      <td>-0.038555</td>\n",
              "      <td>-0.038021</td>\n",
              "      <td>-0.039290</td>\n",
              "      <td>-0.038654</td>\n",
              "      <td>-0.036496</td>\n",
              "      <td>-0.038835</td>\n",
              "      <td>-0.038145</td>\n",
              "      <td>-0.038333</td>\n",
              "      <td>-0.037679</td>\n",
              "      <td>-0.035545</td>\n",
              "    </tr>\n",
              "    <tr>\n",
              "      <th>1</th>\n",
              "      <td>1540456324878</td>\n",
              "      <td>-0.044412</td>\n",
              "      <td>-0.411839</td>\n",
              "      <td>-0.133472</td>\n",
              "      <td>2.032979</td>\n",
              "      <td>-0.387814</td>\n",
              "      <td>-0.031617</td>\n",
              "      <td>0.322955</td>\n",
              "      <td>1.744725</td>\n",
              "      <td>-0.051639</td>\n",
              "      <td>...</td>\n",
              "      <td>-0.038100</td>\n",
              "      <td>-0.038118</td>\n",
              "      <td>-0.038622</td>\n",
              "      <td>-0.038308</td>\n",
              "      <td>-0.036896</td>\n",
              "      <td>-0.039010</td>\n",
              "      <td>-0.038400</td>\n",
              "      <td>-0.037930</td>\n",
              "      <td>-0.037812</td>\n",
              "      <td>-0.038165</td>\n",
              "    </tr>\n",
              "    <tr>\n",
              "      <th>2</th>\n",
              "      <td>1540456324962</td>\n",
              "      <td>0.338219</td>\n",
              "      <td>-0.094507</td>\n",
              "      <td>-0.024912</td>\n",
              "      <td>0.061890</td>\n",
              "      <td>-0.226986</td>\n",
              "      <td>0.107871</td>\n",
              "      <td>0.121011</td>\n",
              "      <td>-0.208504</td>\n",
              "      <td>-0.418836</td>\n",
              "      <td>...</td>\n",
              "      <td>-0.038063</td>\n",
              "      <td>-0.038303</td>\n",
              "      <td>-0.039200</td>\n",
              "      <td>-0.038397</td>\n",
              "      <td>-0.036932</td>\n",
              "      <td>-0.038245</td>\n",
              "      <td>-0.037664</td>\n",
              "      <td>-0.037514</td>\n",
              "      <td>-0.037057</td>\n",
              "      <td>-0.036903</td>\n",
              "    </tr>\n",
              "    <tr>\n",
              "      <th>3</th>\n",
              "      <td>1540456325046</td>\n",
              "      <td>-0.049682</td>\n",
              "      <td>0.027980</td>\n",
              "      <td>-0.008338</td>\n",
              "      <td>-0.088350</td>\n",
              "      <td>0.070348</td>\n",
              "      <td>-0.013674</td>\n",
              "      <td>0.307321</td>\n",
              "      <td>0.159532</td>\n",
              "      <td>-0.047932</td>\n",
              "      <td>...</td>\n",
              "      <td>-0.037775</td>\n",
              "      <td>-0.037678</td>\n",
              "      <td>-0.038711</td>\n",
              "      <td>-0.038133</td>\n",
              "      <td>-0.036972</td>\n",
              "      <td>-0.038177</td>\n",
              "      <td>-0.037273</td>\n",
              "      <td>-0.036996</td>\n",
              "      <td>-0.036614</td>\n",
              "      <td>-0.036822</td>\n",
              "    </tr>\n",
              "    <tr>\n",
              "      <th>4</th>\n",
              "      <td>1540456325129</td>\n",
              "      <td>0.335086</td>\n",
              "      <td>-0.162378</td>\n",
              "      <td>-0.102281</td>\n",
              "      <td>0.045717</td>\n",
              "      <td>-0.088278</td>\n",
              "      <td>0.042099</td>\n",
              "      <td>0.304675</td>\n",
              "      <td>-0.261077</td>\n",
              "      <td>-0.009424</td>\n",
              "      <td>...</td>\n",
              "      <td>-0.038433</td>\n",
              "      <td>-0.038135</td>\n",
              "      <td>-0.038991</td>\n",
              "      <td>-0.038178</td>\n",
              "      <td>-0.037010</td>\n",
              "      <td>-0.038540</td>\n",
              "      <td>-0.038076</td>\n",
              "      <td>-0.037606</td>\n",
              "      <td>-0.038132</td>\n",
              "      <td>-0.035900</td>\n",
              "    </tr>\n",
              "  </tbody>\n",
              "</table>\n",
              "<p>5 rows × 466 columns</p>\n",
              "</div>\n",
              "      <button class=\"colab-df-convert\" onclick=\"convertToInteractive('df-e4c0cd9b-6678-499b-b203-42ca744e26c5')\"\n",
              "              title=\"Convert this dataframe to an interactive table.\"\n",
              "              style=\"display:none;\">\n",
              "        \n",
              "  <svg xmlns=\"http://www.w3.org/2000/svg\" height=\"24px\"viewBox=\"0 0 24 24\"\n",
              "       width=\"24px\">\n",
              "    <path d=\"M0 0h24v24H0V0z\" fill=\"none\"/>\n",
              "    <path d=\"M18.56 5.44l.94 2.06.94-2.06 2.06-.94-2.06-.94-.94-2.06-.94 2.06-2.06.94zm-11 1L8.5 8.5l.94-2.06 2.06-.94-2.06-.94L8.5 2.5l-.94 2.06-2.06.94zm10 10l.94 2.06.94-2.06 2.06-.94-2.06-.94-.94-2.06-.94 2.06-2.06.94z\"/><path d=\"M17.41 7.96l-1.37-1.37c-.4-.4-.92-.59-1.43-.59-.52 0-1.04.2-1.43.59L10.3 9.45l-7.72 7.72c-.78.78-.78 2.05 0 2.83L4 21.41c.39.39.9.59 1.41.59.51 0 1.02-.2 1.41-.59l7.78-7.78 2.81-2.81c.8-.78.8-2.07 0-2.86zM5.41 20L4 18.59l7.72-7.72 1.47 1.35L5.41 20z\"/>\n",
              "  </svg>\n",
              "      </button>\n",
              "      \n",
              "  <style>\n",
              "    .colab-df-container {\n",
              "      display:flex;\n",
              "      flex-wrap:wrap;\n",
              "      gap: 12px;\n",
              "    }\n",
              "\n",
              "    .colab-df-convert {\n",
              "      background-color: #E8F0FE;\n",
              "      border: none;\n",
              "      border-radius: 50%;\n",
              "      cursor: pointer;\n",
              "      display: none;\n",
              "      fill: #1967D2;\n",
              "      height: 32px;\n",
              "      padding: 0 0 0 0;\n",
              "      width: 32px;\n",
              "    }\n",
              "\n",
              "    .colab-df-convert:hover {\n",
              "      background-color: #E2EBFA;\n",
              "      box-shadow: 0px 1px 2px rgba(60, 64, 67, 0.3), 0px 1px 3px 1px rgba(60, 64, 67, 0.15);\n",
              "      fill: #174EA6;\n",
              "    }\n",
              "\n",
              "    [theme=dark] .colab-df-convert {\n",
              "      background-color: #3B4455;\n",
              "      fill: #D2E3FC;\n",
              "    }\n",
              "\n",
              "    [theme=dark] .colab-df-convert:hover {\n",
              "      background-color: #434B5C;\n",
              "      box-shadow: 0px 1px 3px 1px rgba(0, 0, 0, 0.15);\n",
              "      filter: drop-shadow(0px 1px 2px rgba(0, 0, 0, 0.3));\n",
              "      fill: #FFFFFF;\n",
              "    }\n",
              "  </style>\n",
              "\n",
              "      <script>\n",
              "        const buttonEl =\n",
              "          document.querySelector('#df-e4c0cd9b-6678-499b-b203-42ca744e26c5 button.colab-df-convert');\n",
              "        buttonEl.style.display =\n",
              "          google.colab.kernel.accessAllowed ? 'block' : 'none';\n",
              "\n",
              "        async function convertToInteractive(key) {\n",
              "          const element = document.querySelector('#df-e4c0cd9b-6678-499b-b203-42ca744e26c5');\n",
              "          const dataTable =\n",
              "            await google.colab.kernel.invokeFunction('convertToInteractive',\n",
              "                                                     [key], {});\n",
              "          if (!dataTable) return;\n",
              "\n",
              "          const docLinkHtml = 'Like what you see? Visit the ' +\n",
              "            '<a target=\"_blank\" href=https://colab.research.google.com/notebooks/data_table.ipynb>data table notebook</a>'\n",
              "            + ' to learn more about interactive tables.';\n",
              "          element.innerHTML = '';\n",
              "          dataTable['output_type'] = 'display_data';\n",
              "          await google.colab.output.renderOutput(dataTable, element);\n",
              "          const docLink = document.createElement('div');\n",
              "          docLink.innerHTML = docLinkHtml;\n",
              "          element.appendChild(docLink);\n",
              "        }\n",
              "      </script>\n",
              "    </div>\n",
              "  </div>\n",
              "  "
            ]
          },
          "metadata": {},
          "execution_count": 107
        }
      ]
    },
    {
      "cell_type": "markdown",
      "source": [
        "**CT-1.3**"
      ],
      "metadata": {
        "id": "G3B3qSgsgg7B"
      }
    },
    {
      "cell_type": "code",
      "source": [
        "def merging_columns(dataframe, num_nm):\n",
        "\n",
        "  #helper function that gives same name to columns in interval based on num_nm\n",
        "  rename = lambda s : (int(s.split('.')[0]) // num_nm)* num_nm\n",
        "\n",
        "  renamed = dataframe.iloc[:,2:].rename(rename, axis=1 )\n",
        "  merged =  renamed.iloc[:,2:].groupby(level=0, axis=1,).mean()  \n",
        "  merged.insert(0, 'Unnamed: 1', dataframe['Unnamed: 1'])\n",
        "  return merged"
      ],
      "metadata": {
        "id": "dwEcbMh7T2va"
      },
      "execution_count": 108,
      "outputs": []
    },
    {
      "cell_type": "code",
      "source": [
        "test = merging_columns(df, 4)\n",
        "test.head()"
      ],
      "metadata": {
        "id": "C0JmwNajWn6U",
        "outputId": "0fbab4fc-d2d8-4b59-be94-37f911aaddb6",
        "colab": {
          "base_uri": "https://localhost:8080/",
          "height": 300
        }
      },
      "execution_count": 109,
      "outputs": [
        {
          "output_type": "execute_result",
          "data": {
            "text/plain": [
              "      Unnamed: 1       316       320       324       328       332       336  \\\n",
              "0  1540456324789 -0.022926  0.025313 -0.011433  0.033524  0.042501  0.058004   \n",
              "1  1540456324878  0.432932  0.382430 -0.028861 -0.072969  0.142703  0.240415   \n",
              "2  1540456324962 -0.006913 -0.051741 -0.033792  0.032180  0.066547  0.146289   \n",
              "3  1540456325046 -0.021855  0.134745  0.057089 -0.055655  0.077732  0.042257   \n",
              "4  1540456325129 -0.059125  0.006611  0.085647 -0.008280  0.166115  0.154528   \n",
              "\n",
              "        340       344       348  ...       744       748       752       756  \\\n",
              "0  0.073440  0.133997  0.195013  ... -0.040002 -0.040188 -0.039880 -0.040693   \n",
              "1  0.104945  0.310649  0.887396  ... -0.040043 -0.040518 -0.040388 -0.040868   \n",
              "2  0.163428  0.184641  0.287667  ... -0.040071 -0.040117 -0.040391 -0.041096   \n",
              "3  0.066341  0.184647  0.250653  ... -0.039594 -0.039767 -0.039578 -0.040114   \n",
              "4  0.102235  0.011453  0.268209  ... -0.039999 -0.040000 -0.040040 -0.040451   \n",
              "\n",
              "        760       764       768       772       776       780  \n",
              "0 -0.040330 -0.039762 -0.039085 -0.038151 -0.038268 -0.035545  \n",
              "1 -0.040278 -0.040117 -0.039185 -0.038005 -0.038299 -0.038165  \n",
              "2 -0.040837 -0.040078 -0.038912 -0.038238 -0.037636 -0.036903  \n",
              "3 -0.039909 -0.039165 -0.038337 -0.037899 -0.037284 -0.036822  \n",
              "4 -0.040261 -0.039540 -0.039117 -0.038106 -0.038087 -0.035900  \n",
              "\n",
              "[5 rows x 118 columns]"
            ],
            "text/html": [
              "\n",
              "  <div id=\"df-cc0b4ef0-66a7-4ee1-ad5b-bf9ea291aab5\">\n",
              "    <div class=\"colab-df-container\">\n",
              "      <div>\n",
              "<style scoped>\n",
              "    .dataframe tbody tr th:only-of-type {\n",
              "        vertical-align: middle;\n",
              "    }\n",
              "\n",
              "    .dataframe tbody tr th {\n",
              "        vertical-align: top;\n",
              "    }\n",
              "\n",
              "    .dataframe thead th {\n",
              "        text-align: right;\n",
              "    }\n",
              "</style>\n",
              "<table border=\"1\" class=\"dataframe\">\n",
              "  <thead>\n",
              "    <tr style=\"text-align: right;\">\n",
              "      <th></th>\n",
              "      <th>Unnamed: 1</th>\n",
              "      <th>316</th>\n",
              "      <th>320</th>\n",
              "      <th>324</th>\n",
              "      <th>328</th>\n",
              "      <th>332</th>\n",
              "      <th>336</th>\n",
              "      <th>340</th>\n",
              "      <th>344</th>\n",
              "      <th>348</th>\n",
              "      <th>...</th>\n",
              "      <th>744</th>\n",
              "      <th>748</th>\n",
              "      <th>752</th>\n",
              "      <th>756</th>\n",
              "      <th>760</th>\n",
              "      <th>764</th>\n",
              "      <th>768</th>\n",
              "      <th>772</th>\n",
              "      <th>776</th>\n",
              "      <th>780</th>\n",
              "    </tr>\n",
              "  </thead>\n",
              "  <tbody>\n",
              "    <tr>\n",
              "      <th>0</th>\n",
              "      <td>1540456324789</td>\n",
              "      <td>-0.022926</td>\n",
              "      <td>0.025313</td>\n",
              "      <td>-0.011433</td>\n",
              "      <td>0.033524</td>\n",
              "      <td>0.042501</td>\n",
              "      <td>0.058004</td>\n",
              "      <td>0.073440</td>\n",
              "      <td>0.133997</td>\n",
              "      <td>0.195013</td>\n",
              "      <td>...</td>\n",
              "      <td>-0.040002</td>\n",
              "      <td>-0.040188</td>\n",
              "      <td>-0.039880</td>\n",
              "      <td>-0.040693</td>\n",
              "      <td>-0.040330</td>\n",
              "      <td>-0.039762</td>\n",
              "      <td>-0.039085</td>\n",
              "      <td>-0.038151</td>\n",
              "      <td>-0.038268</td>\n",
              "      <td>-0.035545</td>\n",
              "    </tr>\n",
              "    <tr>\n",
              "      <th>1</th>\n",
              "      <td>1540456324878</td>\n",
              "      <td>0.432932</td>\n",
              "      <td>0.382430</td>\n",
              "      <td>-0.028861</td>\n",
              "      <td>-0.072969</td>\n",
              "      <td>0.142703</td>\n",
              "      <td>0.240415</td>\n",
              "      <td>0.104945</td>\n",
              "      <td>0.310649</td>\n",
              "      <td>0.887396</td>\n",
              "      <td>...</td>\n",
              "      <td>-0.040043</td>\n",
              "      <td>-0.040518</td>\n",
              "      <td>-0.040388</td>\n",
              "      <td>-0.040868</td>\n",
              "      <td>-0.040278</td>\n",
              "      <td>-0.040117</td>\n",
              "      <td>-0.039185</td>\n",
              "      <td>-0.038005</td>\n",
              "      <td>-0.038299</td>\n",
              "      <td>-0.038165</td>\n",
              "    </tr>\n",
              "    <tr>\n",
              "      <th>2</th>\n",
              "      <td>1540456324962</td>\n",
              "      <td>-0.006913</td>\n",
              "      <td>-0.051741</td>\n",
              "      <td>-0.033792</td>\n",
              "      <td>0.032180</td>\n",
              "      <td>0.066547</td>\n",
              "      <td>0.146289</td>\n",
              "      <td>0.163428</td>\n",
              "      <td>0.184641</td>\n",
              "      <td>0.287667</td>\n",
              "      <td>...</td>\n",
              "      <td>-0.040071</td>\n",
              "      <td>-0.040117</td>\n",
              "      <td>-0.040391</td>\n",
              "      <td>-0.041096</td>\n",
              "      <td>-0.040837</td>\n",
              "      <td>-0.040078</td>\n",
              "      <td>-0.038912</td>\n",
              "      <td>-0.038238</td>\n",
              "      <td>-0.037636</td>\n",
              "      <td>-0.036903</td>\n",
              "    </tr>\n",
              "    <tr>\n",
              "      <th>3</th>\n",
              "      <td>1540456325046</td>\n",
              "      <td>-0.021855</td>\n",
              "      <td>0.134745</td>\n",
              "      <td>0.057089</td>\n",
              "      <td>-0.055655</td>\n",
              "      <td>0.077732</td>\n",
              "      <td>0.042257</td>\n",
              "      <td>0.066341</td>\n",
              "      <td>0.184647</td>\n",
              "      <td>0.250653</td>\n",
              "      <td>...</td>\n",
              "      <td>-0.039594</td>\n",
              "      <td>-0.039767</td>\n",
              "      <td>-0.039578</td>\n",
              "      <td>-0.040114</td>\n",
              "      <td>-0.039909</td>\n",
              "      <td>-0.039165</td>\n",
              "      <td>-0.038337</td>\n",
              "      <td>-0.037899</td>\n",
              "      <td>-0.037284</td>\n",
              "      <td>-0.036822</td>\n",
              "    </tr>\n",
              "    <tr>\n",
              "      <th>4</th>\n",
              "      <td>1540456325129</td>\n",
              "      <td>-0.059125</td>\n",
              "      <td>0.006611</td>\n",
              "      <td>0.085647</td>\n",
              "      <td>-0.008280</td>\n",
              "      <td>0.166115</td>\n",
              "      <td>0.154528</td>\n",
              "      <td>0.102235</td>\n",
              "      <td>0.011453</td>\n",
              "      <td>0.268209</td>\n",
              "      <td>...</td>\n",
              "      <td>-0.039999</td>\n",
              "      <td>-0.040000</td>\n",
              "      <td>-0.040040</td>\n",
              "      <td>-0.040451</td>\n",
              "      <td>-0.040261</td>\n",
              "      <td>-0.039540</td>\n",
              "      <td>-0.039117</td>\n",
              "      <td>-0.038106</td>\n",
              "      <td>-0.038087</td>\n",
              "      <td>-0.035900</td>\n",
              "    </tr>\n",
              "  </tbody>\n",
              "</table>\n",
              "<p>5 rows × 118 columns</p>\n",
              "</div>\n",
              "      <button class=\"colab-df-convert\" onclick=\"convertToInteractive('df-cc0b4ef0-66a7-4ee1-ad5b-bf9ea291aab5')\"\n",
              "              title=\"Convert this dataframe to an interactive table.\"\n",
              "              style=\"display:none;\">\n",
              "        \n",
              "  <svg xmlns=\"http://www.w3.org/2000/svg\" height=\"24px\"viewBox=\"0 0 24 24\"\n",
              "       width=\"24px\">\n",
              "    <path d=\"M0 0h24v24H0V0z\" fill=\"none\"/>\n",
              "    <path d=\"M18.56 5.44l.94 2.06.94-2.06 2.06-.94-2.06-.94-.94-2.06-.94 2.06-2.06.94zm-11 1L8.5 8.5l.94-2.06 2.06-.94-2.06-.94L8.5 2.5l-.94 2.06-2.06.94zm10 10l.94 2.06.94-2.06 2.06-.94-2.06-.94-.94-2.06-.94 2.06-2.06.94z\"/><path d=\"M17.41 7.96l-1.37-1.37c-.4-.4-.92-.59-1.43-.59-.52 0-1.04.2-1.43.59L10.3 9.45l-7.72 7.72c-.78.78-.78 2.05 0 2.83L4 21.41c.39.39.9.59 1.41.59.51 0 1.02-.2 1.41-.59l7.78-7.78 2.81-2.81c.8-.78.8-2.07 0-2.86zM5.41 20L4 18.59l7.72-7.72 1.47 1.35L5.41 20z\"/>\n",
              "  </svg>\n",
              "      </button>\n",
              "      \n",
              "  <style>\n",
              "    .colab-df-container {\n",
              "      display:flex;\n",
              "      flex-wrap:wrap;\n",
              "      gap: 12px;\n",
              "    }\n",
              "\n",
              "    .colab-df-convert {\n",
              "      background-color: #E8F0FE;\n",
              "      border: none;\n",
              "      border-radius: 50%;\n",
              "      cursor: pointer;\n",
              "      display: none;\n",
              "      fill: #1967D2;\n",
              "      height: 32px;\n",
              "      padding: 0 0 0 0;\n",
              "      width: 32px;\n",
              "    }\n",
              "\n",
              "    .colab-df-convert:hover {\n",
              "      background-color: #E2EBFA;\n",
              "      box-shadow: 0px 1px 2px rgba(60, 64, 67, 0.3), 0px 1px 3px 1px rgba(60, 64, 67, 0.15);\n",
              "      fill: #174EA6;\n",
              "    }\n",
              "\n",
              "    [theme=dark] .colab-df-convert {\n",
              "      background-color: #3B4455;\n",
              "      fill: #D2E3FC;\n",
              "    }\n",
              "\n",
              "    [theme=dark] .colab-df-convert:hover {\n",
              "      background-color: #434B5C;\n",
              "      box-shadow: 0px 1px 3px 1px rgba(0, 0, 0, 0.15);\n",
              "      filter: drop-shadow(0px 1px 2px rgba(0, 0, 0, 0.3));\n",
              "      fill: #FFFFFF;\n",
              "    }\n",
              "  </style>\n",
              "\n",
              "      <script>\n",
              "        const buttonEl =\n",
              "          document.querySelector('#df-cc0b4ef0-66a7-4ee1-ad5b-bf9ea291aab5 button.colab-df-convert');\n",
              "        buttonEl.style.display =\n",
              "          google.colab.kernel.accessAllowed ? 'block' : 'none';\n",
              "\n",
              "        async function convertToInteractive(key) {\n",
              "          const element = document.querySelector('#df-cc0b4ef0-66a7-4ee1-ad5b-bf9ea291aab5');\n",
              "          const dataTable =\n",
              "            await google.colab.kernel.invokeFunction('convertToInteractive',\n",
              "                                                     [key], {});\n",
              "          if (!dataTable) return;\n",
              "\n",
              "          const docLinkHtml = 'Like what you see? Visit the ' +\n",
              "            '<a target=\"_blank\" href=https://colab.research.google.com/notebooks/data_table.ipynb>data table notebook</a>'\n",
              "            + ' to learn more about interactive tables.';\n",
              "          element.innerHTML = '';\n",
              "          dataTable['output_type'] = 'display_data';\n",
              "          await google.colab.output.renderOutput(dataTable, element);\n",
              "          const docLink = document.createElement('div');\n",
              "          docLink.innerHTML = docLinkHtml;\n",
              "          element.appendChild(docLink);\n",
              "        }\n",
              "      </script>\n",
              "    </div>\n",
              "  </div>\n",
              "  "
            ]
          },
          "metadata": {},
          "execution_count": 109
        }
      ]
    },
    {
      "cell_type": "markdown",
      "source": [
        "**CT-1.4**"
      ],
      "metadata": {
        "id": "3xWW-ZbNhOPt"
      }
    },
    {
      "cell_type": "code",
      "source": [
        "def save_loop(df):\n",
        "  with open('/content/drive/MyDrive/DSF/reduced_dataset_loop.txt', 'w') as outstream:\n",
        "    outstream.write(\"\\t\".join(df.columns.format()))\n",
        "    outstream.write(\"\\n\")\n",
        "    for i in df.index:\n",
        "      outstream.write(\"\\t\".join(df.iloc[i,:].values.astype(str)))\n",
        "      outstream.write(\"\\n\")\n",
        "\n",
        "def save_built_in(df):\n",
        "  df.to_csv('/content/drive/MyDrive/DSF/reduced_dataset_built_in.txt', sep='\\t', index=False)"
      ],
      "metadata": {
        "id": "X7w6EetrhQT-"
      },
      "execution_count": 110,
      "outputs": []
    },
    {
      "cell_type": "code",
      "source": [
        "%%timeit\n",
        "save_loop(test)"
      ],
      "metadata": {
        "id": "bv53bzCZp8_v",
        "outputId": "8ab57589-00c3-4055-a28c-088683b48633",
        "colab": {
          "base_uri": "https://localhost:8080/"
        }
      },
      "execution_count": 111,
      "outputs": [
        {
          "output_type": "stream",
          "name": "stdout",
          "text": [
            "162 ms ± 41.6 ms per loop (mean ± std. dev. of 7 runs, 10 loops each)\n"
          ]
        }
      ]
    },
    {
      "cell_type": "code",
      "source": [
        "%%timeit\n",
        "save_built_in(test)"
      ],
      "metadata": {
        "id": "k4bvmJWUp_2I",
        "outputId": "068ec563-38f6-4210-9043-07bfd15c8ab6",
        "colab": {
          "base_uri": "https://localhost:8080/"
        }
      },
      "execution_count": 112,
      "outputs": [
        {
          "output_type": "stream",
          "name": "stdout",
          "text": [
            "94.2 ms ± 23.2 ms per loop (mean ± std. dev. of 7 runs, 10 loops each)\n"
          ]
        }
      ]
    },
    {
      "cell_type": "markdown",
      "source": [
        "**CT-1.5**"
      ],
      "metadata": {
        "id": "7aiDN4RNmlUp"
      }
    },
    {
      "cell_type": "code",
      "source": [
        "def plot_difference(df,wav1, wav2):\n",
        "    diff = pd.DataFrame({'Timestamp' : df['Unnamed: 1'].copy(),\n",
        "                         'Difference' : df[wav1] - df[wav2]})\n",
        "    diff.plot(x='Timestamp', y='Difference')\n"
      ],
      "metadata": {
        "id": "0jaEbw4Emn4Y"
      },
      "execution_count": 113,
      "outputs": []
    },
    {
      "cell_type": "code",
      "source": [
        "plot_difference(df, '316.6137', '317.2913')"
      ],
      "metadata": {
        "id": "qu9_CqDRn3KU",
        "outputId": "1e4d237b-5c72-4fd8-f16d-28b931223f4f",
        "colab": {
          "base_uri": "https://localhost:8080/",
          "height": 279
        }
      },
      "execution_count": 114,
      "outputs": [
        {
          "output_type": "display_data",
          "data": {
            "text/plain": [
              "<Figure size 432x288 with 1 Axes>"
            ],
            "image/png": "[encoded data removed]"
          },
          "metadata": {
            "needs_background": "light"
          }
        }
      ]
    },
    {
      "cell_type": "markdown",
      "source": [
        "**CT-1.6**"
      ],
      "metadata": {
        "id": "cP0AGahne93n"
      }
    },
    {
      "cell_type": "code",
      "source": [
        "def plot_difference_improved(df,wav1, wav2):\n",
        "    diff = pd.DataFrame({'Timestamp' : df['Unnamed: 1'].copy(),\n",
        "                         'Difference' : df[wav1] - df[wav2],\n",
        "                         '{}'.format(wav1): df[wav1],\n",
        "                         '{}'.format(wav2): df[wav2]})\n",
        "    diff['Timestamp'] = (diff['Timestamp'] - diff['Timestamp'].iloc[0])/1000\n",
        "    plot = diff.plot(x='Timestamp', y=['Difference', '{}'.format(wav1), '{}'.format(wav2)],\n",
        "                     xlabel= 'Time [sec]', ylabel='Absorbance [AU]', \n",
        "                     title='Difference in Absorbance at {}nm and {}nm'.format(wav1, wav2))\n",
        "    plot.get_figure().savefig('plot.jpg')"
      ],
      "metadata": {
        "id": "oj3cxL-Ke_mk"
      },
      "execution_count": 115,
      "outputs": []
    },
    {
      "cell_type": "code",
      "source": [
        "plot_difference_improved(df, '316.6137', '317.2913')"
      ],
      "metadata": {
        "id": "Tg4s9Pspfb5m",
        "outputId": "009959c3-7746-4bc9-907c-73fb502ddd41",
        "colab": {
          "base_uri": "https://localhost:8080/",
          "height": 295
        }
      },
      "execution_count": 116,
      "outputs": [
        {
          "output_type": "display_data",
          "data": {
            "text/plain": [
              "<Figure size 432x288 with 1 Axes>"
            ],
            "image/png": "[encoded data removed]"
          },
          "metadata": {
            "needs_background": "light"
          }
        }
      ]
    },
    {
      "cell_type": "markdown",
      "source": [
        "**CT-1.7**"
      ],
      "metadata": {
        "id": "0FnbzPTwj3q6"
      }
    },
    {
      "cell_type": "code",
      "source": [
        "def get_difference(df, wav1, wav2):\n",
        "  return df[wav1] - df[wav2]\n",
        "\n",
        "def plot_multiple():\n",
        "  merged_one = merging_columns_1nm(df)\n",
        "  merged_four = merging_columns(df, 4)\n",
        "  new_df = pd.DataFrame({'Timestamp' : (df['Unnamed: 1'] - df['Unnamed: 1'].iloc[0]) /1000 ,\n",
        "                         'Unreduced' : get_difference(df, '316.6137', '317.2913'),\n",
        "                         '1nm steps' : get_difference(merged_one, '316', '317'),\n",
        "                         '4nm steps' : get_difference(merged_four, merged_four.columns[1], merged_four.columns[2])})\n",
        "  new_df.plot(x='Timestamp', y=['Unreduced', '1nm steps', '4nm steps'], xlabel= 'Time [sec]', ylabel='Difference in Absorbance [AU]')\n"
      ],
      "metadata": {
        "id": "Vz_eXLsFj5jj"
      },
      "execution_count": 117,
      "outputs": []
    },
    {
      "cell_type": "code",
      "source": [
        "plot_multiple()"
      ],
      "metadata": {
        "id": "-_JTDi-tpuqC",
        "outputId": "5425e951-c5b7-4f3d-8a73-cf08f6073fe5",
        "colab": {
          "base_uri": "https://localhost:8080/",
          "height": 279
        }
      },
      "execution_count": 118,
      "outputs": [
        {
          "output_type": "display_data",
          "data": {
            "text/plain": [
              "<Figure size 432x288 with 1 Axes>"
            ],
            "image/png": "[encoded data removed]"
          },
          "metadata": {
            "needs_background": "light"
          }
        }
      ]
    },
    {
      "cell_type": "markdown",
      "source": [
        "Reducing the amount of wavelengths simultaneously reduces the difference in absorbance."
      ],
      "metadata": {
        "id": "VJsd75nhAGmb"
      }
    }
  ]
}