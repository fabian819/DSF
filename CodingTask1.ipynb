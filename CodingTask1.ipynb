{
  "nbformat": 4,
  "nbformat_minor": 0,
  "metadata": {
    "colab": {
      "name": "CodingTask1.ipynb",
      "provenance": [],
      "include_colab_link": true
    },
    "kernelspec": {
      "name": "python3",
      "display_name": "Python 3"
    },
    "language_info": {
      "name": "python"
    }
  },
  "cells": [
    {
      "cell_type": "markdown",
      "metadata": {
        "id": "view-in-github",
        "colab_type": "text"
      },
      "source": [
        "<a href=\"https://colab.research.google.com/github/fabian819/DSF/blob/main/CodingTask1.ipynb\" target=\"_parent\"><img src=\"https://colab.research.google.com/assets/colab-badge.svg\" alt=\"Open In Colab\"/></a>"
      ]
    },
    {
      "cell_type": "markdown",
      "source": [
        "Data Science Fundamentals for DCBP, S. Haug, University of Bern "
      ],
      "metadata": {
        "id": "_-1mhuoK6uqC"
      }
    },
    {
      "cell_type": "markdown",
      "source": [
        "# Coding Task 1\n",
        "\n",
        "- Deadline (upload to Ilias): 2022-03-22 17:00\n",
        "- Estimated effort: 2-5 hours (if you don't progress after 2 hours of trying, search for help, ChatGPT, Google, colleagues, course tutor)\n",
        "- Data on Ilias: CCD-Data with metadata file CCD-Metadata\n"
      ],
      "metadata": {
        "id": "gn4RkUC66-ou"
      }
    },
    {
      "cell_type": "markdown",
      "source": [
        "## Tasks (maximum 12.5 points)"
      ],
      "metadata": {
        "id": "KYKF2iS56v1z"
      }
    },
    {
      "cell_type": "markdown",
      "source": [
        "- **CT-1.1** Write a method (function) which removes the header information in the \n",
        "datafile and saves that information into a separate textfile. [0.5 points] \n",
        "- **CT-1.2** Write a function which reduces the data resolution by merging/averaging columns such that there is only one column per 1 nm. [2.0 points]  \n",
        "- **CT-1.3** Now generalize the above merging so that it works for any number nm er column. [2.0 points]\n",
        "- **CT-1.4** Implement the saving of the reduced dataset to a file. Do this (1) by writing an explicit loop (write line by line) and (2) by using pandas methods. Measure the running times of the two approaches. [2.0 points]\n",
        "- **CT-1.5** Write a function which takes two wavelengths as input and plots the difference of the data at these lengths over time. [2.0 points] \n",
        "- **CT-1.6** Let the x-axis be in seconds, label the axes with names and units, label the plot with color and legend, make a title for the plot. Save the plot to a file. [2.0 points]\n",
        "- **CT-1.7** Plot the full and some reduced datasets in the same figure. Is there any visual difference? [2.0 points]"
      ],
      "metadata": {
        "id": "rXqhhPMu9aPx"
      }
    },
    {
      "cell_type": "markdown",
      "source": [
        "All the relevant imports"
      ],
      "metadata": {
        "id": "Ssr25TwqzdbM"
      }
    },
    {
      "cell_type": "code",
      "source": [
        "import pandas as pd\n",
        "from google.colab import drive\n",
        "import re\n",
        "import os\n",
        "import numpy as np"
      ],
      "metadata": {
        "id": "OfvMackX-SFc"
      },
      "execution_count": 34,
      "outputs": []
    },
    {
      "cell_type": "markdown",
      "source": [
        "Mount the google drive"
      ],
      "metadata": {
        "id": "RVdIlPiGz_uC"
      }
    },
    {
      "cell_type": "code",
      "source": [
        "drive.mount('/content/drive', force_remount=True)"
      ],
      "metadata": {
        "colab": {
          "base_uri": "https://localhost:8080/"
        },
        "id": "t58uc9II0D0q",
        "outputId": "21eeaaf8-bffd-4a78-9c38-b261ddcd9c59"
      },
      "execution_count": 23,
      "outputs": [
        {
          "output_type": "stream",
          "name": "stdout",
          "text": [
            "Mounted at /content/drive\n"
          ]
        }
      ]
    },
    {
      "cell_type": "markdown",
      "source": [
        "**CT-1.1**"
      ],
      "metadata": {
        "id": "0vW_uU_9zz8n"
      }
    },
    {
      "cell_type": "code",
      "source": [
        "\n",
        "def isolate_header(file_path,file_name):\n",
        "  '''Takes the a file and splits on the line\n",
        "  which starts with >, only works if > is not\n",
        "  used in other parts of the file'''\n",
        "\n",
        "  path = file_path + '/' + file_name\n",
        "\n",
        "  if  not os.path.exists(path):\n",
        "    raise Exception('There is no such file')\n",
        "\n",
        "  with open(path, 'r') as instream:\n",
        "    separated = re.split('>.*\\n', instream.read())\n",
        "\n",
        "  with open(path, 'w') as outstream:\n",
        "    outstream.write(separated[-1])\n",
        "\n",
        "  try:\n",
        "    with open(file_path + '/CCD-metadata.txt', 'w') as outstream:\n",
        "      outstream.write(separated[-2])\n",
        "  except:\n",
        "    print(\"Probably already split\")\n",
        "\n",
        "  "
      ],
      "metadata": {
        "id": "6BIwq6nczabo"
      },
      "execution_count": 25,
      "outputs": []
    },
    {
      "cell_type": "code",
      "source": [
        "isolate_header('/content/drive/MyDrive/DSF','CCD-Data.txt')"
      ],
      "metadata": {
        "id": "2E_XJ6Q51eor"
      },
      "execution_count": 24,
      "outputs": []
    },
    {
      "cell_type": "markdown",
      "source": [
        "**CT-1.2**"
      ],
      "metadata": {
        "id": "p3WuvZrO4zTW"
      }
    },
    {
      "cell_type": "code",
      "source": [],
      "metadata": {
        "id": "-BdgFUIjKekk"
      },
      "execution_count": null,
      "outputs": []
    },
    {
      "cell_type": "code",
      "source": [
        "df = pd.read_csv('/content/drive/MyDrive/DSF/CCD-Data.txt', sep='\\t')\n",
        "df.head()\n",
        "renamed = df.rename(columns=lambda s: s.split('.')[0])\n",
        "renamed.groupby(level=0, axis=1)"
      ],
      "metadata": {
        "colab": {
          "base_uri": "https://localhost:8080/"
        },
        "id": "NifjNAPq5O-J",
        "outputId": "9a21906c-3c49-4584-a68b-fe3af6e14126"
      },
      "execution_count": 44,
      "outputs": [
        {
          "output_type": "execute_result",
          "data": {
            "text/plain": [
              "<pandas.core.groupby.generic.DataFrameGroupBy object at 0x7ff448edecd0>"
            ]
          },
          "metadata": {},
          "execution_count": 44
        }
      ]
    },
    {
      "cell_type": "code",
      "source": [
        "def merging_columns(dataframe):\n",
        "  "
      ],
      "metadata": {
        "id": "1lRKY-wM424o"
      },
      "execution_count": null,
      "outputs": []
    }
  ]
}